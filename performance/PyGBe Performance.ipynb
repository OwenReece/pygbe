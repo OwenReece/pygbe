{
 "cells": [
  {
   "cell_type": "markdown",
   "metadata": {},
   "source": [
    "# PyGBe Performance"
   ]
  },
  {
   "cell_type": "markdown",
   "metadata": {},
   "source": [
    "Figure 1 below is a comparison of the performance of PyGBe versus APBS, which is a multi-core CPU finite-difference package for solving the Poisson-Boltzmann equation.  \n",
    "\n",
    "This figure originally appeared in Reference 1, this is an updated version run on newer hardware.  The original paper ran on an NVIDIA Tesla C2075 and the new figure was generated on an NVIDIA Tesla K40.  Note that the APBS results have not been re-run, the details of the hardware used for those results are available in Reference 1.  "
   ]
  },
  {
   "cell_type": "markdown",
   "metadata": {},
   "source": [
    "<img src='./time_lys.png' width=600px>\n",
    "\n",
    "#### Figure 1. Updated version of Figure 6c from [1] run with newer hardware"
   ]
  },
  {
   "cell_type": "markdown",
   "metadata": {},
   "source": [
    "To reproduce this figure using PyGBe, you can run the script `run_and_plot_lysozome_case.py` in the `pygbe/performance` directory inside the git repository.  \n",
    "The script will prompt you to download the necessary meshes from Zenodo but it is otherwise a hands-off affair.  "
   ]
  },
  {
   "cell_type": "markdown",
   "metadata": {},
   "source": [
    "### References\n",
    "\n",
    "1. Cooper, C. D., Bardhan, J. P., & Barba, L. A. (2014). A biomolecular electrostatics solver using Python, GPUs and boundary elements that can handle solvent-filled cavities and Stern layers. Computer physics communications, 185(3), 720-729."
   ]
  }
 ],
 "metadata": {
  "kernelspec": {
   "display_name": "Python 2",
   "language": "python",
   "name": "python2"
  },
  "language_info": {
   "codemirror_mode": {
    "name": "ipython",
    "version": 2
   },
   "file_extension": ".py",
   "mimetype": "text/x-python",
   "name": "python",
   "nbconvert_exporter": "python",
   "pygments_lexer": "ipython2",
   "version": "2.7.12"
  }
 },
 "nbformat": 4,
 "nbformat_minor": 0
}
